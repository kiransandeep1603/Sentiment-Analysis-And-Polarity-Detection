{
  "nbformat": 4,
  "nbformat_minor": 0,
  "metadata": {
    "colab": {
      "provenance": [],
      "include_colab_link": true
    },
    "kernelspec": {
      "name": "python3",
      "display_name": "Python 3"
    },
    "language_info": {
      "name": "python"
    }
  },
  "cells": [
    {
      "cell_type": "markdown",
      "metadata": {
        "id": "view-in-github",
        "colab_type": "text"
      },
      "source": [
        "<a href=\"https://colab.research.google.com/github/kiransandeep1603/Sentiment-Analysis-And-Polarity-Detection/blob/main/Copy_of_Casestudy.ipynb\" target=\"_parent\"><img src=\"https://colab.research.google.com/assets/colab-badge.svg\" alt=\"Open In Colab\"/></a>"
      ]
    },
    {
      "cell_type": "code",
      "execution_count": null,
      "metadata": {
        "colab": {
          "base_uri": "https://localhost:8080/"
        },
        "id": "Vl03J7Kc__ao",
        "outputId": "804a06eb-81b2-4c9b-cc97-58d2c0dedb77"
      },
      "outputs": [
        {
          "output_type": "stream",
          "name": "stderr",
          "text": [
            "[nltk_data] Downloading package stopwords to /root/nltk_data...\n",
            "[nltk_data]   Unzipping corpora/stopwords.zip.\n"
          ]
        },
        {
          "output_type": "stream",
          "name": "stdout",
          "text": [
            "Polarity Scores:                           text  polarity\n",
            "0         I love this product!     0.625\n",
            "1      I hate this experience.    -0.800\n",
            "2        It's okay, not great.     0.050\n",
            "3             Amazing service!     0.750\n",
            "4             Not good at all.    -0.350\n",
            "5           I'm not impressed.    -0.500\n",
            "6        Absolutely wonderful!     1.000\n",
            "7            Terrible quality.    -1.000\n",
            "8   Mediocre, could be better.     0.000\n",
            "9                   Great job!     1.000\n",
            "10            Bad performance.    -0.700\n",
            "11   Neutral opinion about it.     0.000\n",
            "Classification Report:\n",
            "              precision    recall  f1-score   support\n",
            "\n",
            "    negative       0.50      1.00      0.67         1\n",
            "     neutral       0.00      0.00      0.00         0\n",
            "    positive       0.00      0.00      0.00         2\n",
            "\n",
            "    accuracy                           0.33         3\n",
            "   macro avg       0.17      0.33      0.22         3\n",
            "weighted avg       0.17      0.33      0.22         3\n",
            "\n",
            "Accuracy Score: 0.3333333333333333\n",
            "\n",
            "Predicted Sentiment Results:\n",
            "       Original Text True Sentiment Predicted Sentiment\n",
            "10  bad performance       negative            negative\n",
            "9         great job       positive             neutral\n",
            "0      love product       positive            negative\n"
          ]
        },
        {
          "output_type": "stream",
          "name": "stderr",
          "text": [
            "/usr/local/lib/python3.11/dist-packages/sklearn/metrics/_classification.py:1565: UndefinedMetricWarning: Precision is ill-defined and being set to 0.0 in labels with no predicted samples. Use `zero_division` parameter to control this behavior.\n",
            "  _warn_prf(average, modifier, f\"{metric.capitalize()} is\", len(result))\n",
            "/usr/local/lib/python3.11/dist-packages/sklearn/metrics/_classification.py:1565: UndefinedMetricWarning: Recall is ill-defined and being set to 0.0 in labels with no true samples. Use `zero_division` parameter to control this behavior.\n",
            "  _warn_prf(average, modifier, f\"{metric.capitalize()} is\", len(result))\n",
            "/usr/local/lib/python3.11/dist-packages/sklearn/metrics/_classification.py:1565: UndefinedMetricWarning: Precision is ill-defined and being set to 0.0 in labels with no predicted samples. Use `zero_division` parameter to control this behavior.\n",
            "  _warn_prf(average, modifier, f\"{metric.capitalize()} is\", len(result))\n",
            "/usr/local/lib/python3.11/dist-packages/sklearn/metrics/_classification.py:1565: UndefinedMetricWarning: Recall is ill-defined and being set to 0.0 in labels with no true samples. Use `zero_division` parameter to control this behavior.\n",
            "  _warn_prf(average, modifier, f\"{metric.capitalize()} is\", len(result))\n",
            "/usr/local/lib/python3.11/dist-packages/sklearn/metrics/_classification.py:1565: UndefinedMetricWarning: Precision is ill-defined and being set to 0.0 in labels with no predicted samples. Use `zero_division` parameter to control this behavior.\n",
            "  _warn_prf(average, modifier, f\"{metric.capitalize()} is\", len(result))\n",
            "/usr/local/lib/python3.11/dist-packages/sklearn/metrics/_classification.py:1565: UndefinedMetricWarning: Recall is ill-defined and being set to 0.0 in labels with no true samples. Use `zero_division` parameter to control this behavior.\n",
            "  _warn_prf(average, modifier, f\"{metric.capitalize()} is\", len(result))\n"
          ]
        }
      ],
      "source": [
        "import pandas as pd\n",
        "import re\n",
        "from textblob import TextBlob\n",
        "from sklearn.model_selection import train_test_split\n",
        "from sklearn.feature_extraction.text import CountVectorizer\n",
        "from sklearn.naive_bayes import MultinomialNB\n",
        "from sklearn.metrics import classification_report, accuracy_score\n",
        "import nltk\n",
        "from nltk.corpus import stopwords\n",
        "nltk.download('stopwords')\n",
        "data = {\n",
        "    \"text\": [\n",
        "        \"I love this product!\", \"I hate this experience.\", \"It's okay, not great.\",\n",
        "        \"Amazing service!\", \"Not good at all.\", \"I'm not impressed.\",\n",
        "        \"Absolutely wonderful!\", \"Terrible quality.\", \"Mediocre, could be better.\",\n",
        "        \"Great job!\", \"Bad performance.\", \"Neutral opinion about it.\"\n",
        "    ],\n",
        "    \"label\": [\"positive\", \"negative\", \"neutral\", \"positive\", \"negative\", \"negative\",\n",
        "              \"positive\", \"negative\", \"neutral\", \"positive\", \"negative\", \"neutral\"]\n",
        "}\n",
        "df = pd.DataFrame(data)\n",
        "def clean_text(text):\n",
        "    text = re.sub(r\"[^a-zA-Z\\s]\", \"\", text)\n",
        "    text = text.lower()\n",
        "    text = \" \".join([word for word in text.split() if word not in stopwords.words(\"english\")])\n",
        "    return text\n",
        "\n",
        "df['clean_text'] = df['text'].apply(clean_text)\n",
        "\n",
        "# Sentiment Polarity Detection using TextBlob\n",
        "def get_polarity(text):\n",
        "    return TextBlob(text).sentiment.polarity\n",
        "\n",
        "df['polarity'] = df['text'].apply(get_polarity)\n",
        "\n",
        "# Display polarity values\n",
        "print(\"Polarity Scores:\", df[['text', 'polarity']])\n",
        "\n",
        "# Classify based on polarity scores for general sentiment\n",
        "df['predicted_sentiment'] = df['polarity'].apply(lambda x: 'positive' if x > 0 else ('negative' if x < 0 else 'neutral'))\n",
        "X = df['clean_text']\n",
        "y = df['label']\n",
        "X_train, X_test, y_train, y_test = train_test_split(X, y, test_size=0.2, random_state=42)\n",
        "vectorizer = CountVectorizer()\n",
        "X_train_vec = vectorizer.fit_transform(X_train)\n",
        "X_test_vec = vectorizer.transform(X_test)\n",
        "model = MultinomialNB()\n",
        "model.fit(X_train_vec, y_train)\n",
        "y_pred = model.predict(X_test_vec)\n",
        "print(\"Classification Report:\")\n",
        "print(classification_report(y_test, y_pred))\n",
        "print(\"Accuracy Score:\", accuracy_score(y_test, y_pred))\n",
        "df_results = pd.DataFrame({\n",
        "    \"Original Text\": X_test,\n",
        "    \"True Sentiment\": y_test,\n",
        "    \"Predicted Sentiment\": y_pred\n",
        "})\n",
        "print(\"\\nPredicted Sentiment Results:\\n\", df_results)"
      ]
    }
  ]
}